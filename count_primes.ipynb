{
 "cells": [
  {
   "cell_type": "code",
   "execution_count": 24,
   "metadata": {},
   "outputs": [],
   "source": [
    "# Alternative version\n",
    "def count_primes(input_number):\n",
    "    import math\n",
    "\n",
    "    array_of_prime_numbers = 3\n",
    "    primes = [2]\n",
    "\n",
    "    if input_number<0:\n",
    "        print(\"Please enter a number equal or larger than zero (0)\")\n",
    "    else:\n",
    "        while input_number>=0:    \n",
    "            if 0<=input_number<=2:\n",
    "                print(\"They do not have pre-existing prime numbers!\")\n",
    "                return\n",
    "            while array_of_prime_numbers<=input_number:\n",
    "                for every_number in range(3, int(array_of_prime_numbers**0.5) + 1, 2): #Explanation 1: https://www.youtube.com/watch?v=tJeP8882zZg\n",
    "                    if array_of_prime_numbers%every_number == 0:\n",
    "                        array_of_prime_numbers += 2\n",
    "                        break\n",
    "                else:\n",
    "                    primes.append(array_of_prime_numbers)\n",
    "                    array_of_prime_numbers += 2\n",
    "            print(primes) \n",
    "\n",
    "            log_approx = input_number/math.log(input_number)\n",
    "            percentage_difference = round((len(primes)-log_approx)/len(primes)*100, 2)\n",
    "            return f'logarithmic approximation: {round(log_approx, 2)}', f'vs. \"List\" approximation: {len(primes)}', f'Percentage of difference between logarithmic approximation, and \"List\" approximation: {abs(percentage_difference)} %'\n",
    "            #Explanation 2: https://www.youtube.com/watch?v=6MIufzYkfg8\n"
   ]
  },
  {
   "cell_type": "code",
   "execution_count": 26,
   "metadata": {},
   "outputs": [
    {
     "name": "stdout",
     "output_type": "stream",
     "text": [
      "[2, 3, 5, 7, 11, 13, 17, 19, 23, 29, 31, 37, 41, 43, 47, 53, 59, 61, 67, 71, 73, 79, 83, 89, 97]\n"
     ]
    },
    {
     "data": {
      "text/plain": [
       "('logarithmic approximation: 21.71',\n",
       " 'vs. \"List\" approximation: 25',\n",
       " 'Percentage of difference between logarithmic approximation, and \"List\" approximation: 13.141103619349636 %')"
      ]
     },
     "execution_count": 26,
     "metadata": {},
     "output_type": "execute_result"
    }
   ],
   "source": [
    "# Check\n",
    "count_primes(100)"
   ]
  }
 ],
 "metadata": {
  "interpreter": {
   "hash": "03eaa2ea944cf99881aa5fab8d165e2f17a4015119a862d5d367392066f26a1e"
  },
  "kernelspec": {
   "display_name": "Python 3.9.6 64-bit",
   "name": "python3"
  },
  "language_info": {
   "codemirror_mode": {
    "name": "ipython",
    "version": 3
   },
   "file_extension": ".py",
   "mimetype": "text/x-python",
   "name": "python",
   "nbconvert_exporter": "python",
   "pygments_lexer": "ipython3",
   "version": "3.9.6"
  },
  "orig_nbformat": 4
 },
 "nbformat": 4,
 "nbformat_minor": 2
}
